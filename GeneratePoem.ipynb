{
 "cells": [
  {
   "cell_type": "code",
   "execution_count": 0,
   "metadata": {
    "colab": {},
    "colab_type": "code",
    "id": "MUSq4OEwJ7N7"
   },
   "outputs": [],
   "source": [
    "from tensorflow.keras.preprocessing.sequence import pad_sequences\n",
    "from tensorflow.keras.layers import Embedding, LSTM, Dense, Dropout, Bidirectional\n",
    "from tensorflow.keras.preprocessing.text import Tokenizer\n",
    "from tensorflow.keras.models import Sequential\n",
    "from tensorflow.keras.optimizers import Adam\n",
    "import tensorflow as tf\n",
    "import tensorflow.keras.utils as ku \n",
    "import numpy as np\n",
    "import os \n",
    "import tensorflow as tf\n",
    "from tensorflow import keras\n",
    "import pickle as pkl"
   ]
  },
  {
   "cell_type": "code",
   "execution_count": 0,
   "metadata": {
    "colab": {},
    "colab_type": "code",
    "id": "LaN2qg9-KPyt"
   },
   "outputs": [],
   "source": [
    "os.chdir(\"/content/drive/My Drive/NN98\")\n",
    "os.mkdir(\"HW4\")"
   ]
  },
  {
   "cell_type": "code",
   "execution_count": 0,
   "metadata": {
    "colab": {},
    "colab_type": "code",
    "id": "MpGp7vb9Kz7j"
   },
   "outputs": [],
   "source": [
    "#delete directory logs and image model\n",
    "!rm -rf \"/content/drive/My Drive/NN98/HW4/logs\"\n",
    "!rm -rf \"/content/drive/My Drive/NN98/HW4/model.png\"\n",
    "\n",
    "os.mkdir(\"./logs\")"
   ]
  },
  {
   "cell_type": "code",
   "execution_count": 0,
   "metadata": {
    "colab": {},
    "colab_type": "code",
    "id": "DDqBVNHKOxqe"
   },
   "outputs": [],
   "source": [
    "os.chdir(\"/content/drive/My Drive/NN98/HW4\")"
   ]
  },
  {
   "cell_type": "code",
   "execution_count": 0,
   "metadata": {
    "colab": {},
    "colab_type": "code",
    "id": "yqPuqBYPO1Ir"
   },
   "outputs": [],
   "source": [
    "with open('sentences2.pkl', 'rb') as f:\n",
    "    sentences = pickle.load(f)"
   ]
  },
  {
   "cell_type": "code",
   "execution_count": 8,
   "metadata": {
    "colab": {
     "base_uri": "https://localhost:8080/",
     "height": 35
    },
    "colab_type": "code",
    "id": "2oeP4JXeQzqg",
    "outputId": "1085e8a6-52af-4fc5-aca3-7ef25388ef95"
   },
   "outputs": [
    {
     "data": {
      "text/plain": [
       "'جهان چون بزاری برآید همی'"
      ]
     },
     "execution_count": 8,
     "metadata": {
      "tags": []
     },
     "output_type": "execute_result"
    }
   ],
   "source": [
    "sentences[0]"
   ]
  },
  {
   "cell_type": "markdown",
   "metadata": {},
   "source": [
    "# Word by Word"
   ]
  },
  {
   "cell_type": "code",
   "execution_count": 0,
   "metadata": {
    "colab": {},
    "colab_type": "code",
    "id": "EQnCRRT4SE3k"
   },
   "outputs": [],
   "source": [
    "tokenizer = Tokenizer()\n",
    "tokenizer.fit_on_texts(sentences)\n",
    "\n",
    "total_words = len(tokenizer.word_index) + 1\n",
    "\n",
    "\n",
    "input_sequences = []\n",
    "for line in sentences:\n",
    "\ttoken_list = tokenizer.texts_to_sequences([line])[0]\n",
    "\tfor i in range(1, len(token_list)):\n",
    "\t\tn_gram_sequence = token_list[:i+1]\n",
    "\t\tinput_sequences.append(n_gram_sequence)\n",
    "\n",
    "\n",
    "max_sequence_len = max([len(x) for x in input_sequences])\n",
    "input_sequences = np.array(pad_sequences(input_sequences, maxlen=max_sequence_len, padding='pre'))\n",
    "\n",
    "\n",
    "\n",
    "predictors, label = input_sequences[:,:-1],input_sequences[:,-1]\n",
    "\n",
    "label = ku.to_categorical(label, num_classes=total_words)"
   ]
  },
  {
   "cell_type": "code",
   "execution_count": 1,
   "metadata": {
    "colab": {
     "base_uri": "https://localhost:8080/",
     "height": 171
    },
    "colab_type": "code",
    "id": "zdRlm9yss17u",
    "outputId": "ab8105ec-69f4-4f58-e2de-08d8a8f6f65a"
   },
   "outputs": [],
   "source": [
    "model.reset_states()"
   ]
  },
  {
   "cell_type": "markdown",
   "metadata": {},
   "source": [
    "## LSTM ( best model)"
   ]
  },
  {
   "cell_type": "code",
   "execution_count": 12,
   "metadata": {
    "colab": {
     "base_uri": "https://localhost:8080/",
     "height": 290
    },
    "colab_type": "code",
    "id": "Znry6fyYmXof",
    "outputId": "34d1ad38-b527-46bb-ceec-c71001538d08"
   },
   "outputs": [
    {
     "name": "stdout",
     "output_type": "stream",
     "text": [
      "Model: \"sequential\"\n",
      "_________________________________________________________________\n",
      "Layer (type)                 Output Shape              Param #   \n",
      "=================================================================\n",
      "embedding (Embedding)        (None, 10, 100)           990100    \n",
      "_________________________________________________________________\n",
      "bidirectional (Bidirectional (None, 128)               84480     \n",
      "_________________________________________________________________\n",
      "dense (Dense)                (None, 9901)              1277229   \n",
      "=================================================================\n",
      "Total params: 2,351,809\n",
      "Trainable params: 2,351,809\n",
      "Non-trainable params: 0\n",
      "_________________________________________________________________\n",
      "None\n"
     ]
    }
   ],
   "source": [
    "model = Sequential()\n",
    "model.add(Embedding(total_words, 100, input_length= max_sequence_len - 1))\n",
    "model.add(Bidirectional(LSTM(64)))\n",
    "model.add(Dense(total_words, activation='softmax'))\n",
    "# Pick an optimizer\n",
    "adam = Adam(learning_rate = 0.01)\n",
    "\n",
    "model.compile(loss = \"categorical_crossentropy\", optimizer = adam, metrics = [\"accuracy\"])\n",
    "print(model.summary())\n"
   ]
  },
  {
   "cell_type": "markdown",
   "metadata": {},
   "source": [
    "## GRU soal 3"
   ]
  },
  {
   "cell_type": "code",
   "execution_count": 0,
   "metadata": {
    "colab": {
     "base_uri": "https://localhost:8080/",
     "height": 326
    },
    "colab_type": "code",
    "id": "VKNrzfDRJTpe",
    "outputId": "142aa034-ef45-409f-f2e4-e63f30992ec6"
   },
   "outputs": [
    {
     "name": "stdout",
     "output_type": "stream",
     "text": [
      "Model: \"sequential\"\n",
      "_________________________________________________________________\n",
      "Layer (type)                 Output Shape              Param #   \n",
      "=================================================================\n",
      "embedding (Embedding)        (None, 10, 64)            633664    \n",
      "_________________________________________________________________\n",
      "gru (GRU)                    (None, 30)                8640      \n",
      "_________________________________________________________________\n",
      "dropout (Dropout)            (None, 30)                0         \n",
      "_________________________________________________________________\n",
      "dense (Dense)                (None, 9901)              306931    \n",
      "=================================================================\n",
      "Total params: 949,235\n",
      "Trainable params: 949,235\n",
      "Non-trainable params: 0\n",
      "_________________________________________________________________\n",
      "None\n"
     ]
    }
   ],
   "source": [
    "model = Sequential()\n",
    "model.add(Embedding(total_words, 64, input_length= max_sequence_len - 1))\n",
    "model.add(tf.keras.layers.GRU(30))\n",
    "model.add(Dropout(0.5))\n",
    "model.add(Dense(total_words, activation= \"softmax\"))\n",
    "# Pick an optimizer\n",
    "adam = Adam(learning_rate = 0.01)\n",
    "model.compile(loss = \"categorical_crossentropy\", optimizer = adam, metrics = [\"accuracy\"])\n",
    "print(model.summary())\n"
   ]
  },
  {
   "cell_type": "markdown",
   "metadata": {},
   "source": [
    "## LSTM soal 3"
   ]
  },
  {
   "cell_type": "code",
   "execution_count": null,
   "metadata": {},
   "outputs": [],
   "source": [
    "model = Sequential()\n",
    "model.add(Embedding(total_words, 64, input_length= max_sequence_len - 1))\n",
    "model.add(Bidirectional(LSTM(30)))\n",
    "model.add(Dropout(0.5))\n",
    "model.add(Dense(total_words, activation= \"softmax\"))\n",
    "# Pick an optimizer\n",
    "adam = Adam(learning_rate = 0.01)\n",
    "model.compile(loss = \"categorical_crossentropy\", optimizer = adam, metrics = [\"accuracy\"])\n",
    "print(model.summary())"
   ]
  },
  {
   "cell_type": "code",
   "execution_count": 0,
   "metadata": {
    "colab": {},
    "colab_type": "code",
    "id": "ElIo1GId2zA3"
   },
   "outputs": [],
   "source": [
    "tb_callback = keras.callbacks.TensorBoard(log_dir = \"./logs\", histogram_freq = 1)"
   ]
  },
  {
   "cell_type": "code",
   "execution_count": 0,
   "metadata": {
    "colab": {},
    "colab_type": "code",
    "id": "3EKt2qAuHGoD"
   },
   "outputs": [],
   "source": [
    "# Directory where the checkpoints will be saved\n",
    "checkpoint_dir = './training_checkpoints'\n",
    "# Name of the checkpoint files\n",
    "checkpoint_prefix = os.path.join(checkpoint_dir, \"ckpt_{epoch}\")\n",
    "\n",
    "checkpoint_callback=tf.keras.callbacks.ModelCheckpoint(\n",
    "    filepath=checkpoint_prefix,\n",
    "    save_weights_only=True)"
   ]
  },
  {
   "cell_type": "code",
   "execution_count": 0,
   "metadata": {
    "colab": {
     "base_uri": "https://localhost:8080/",
     "height": 235
    },
    "colab_type": "code",
    "id": "LR_fw9AMJZRQ",
    "outputId": "43c57e4e-77bb-49c4-b1de-43660cd6e8fa"
   },
   "outputs": [
    {
     "name": "stdout",
     "output_type": "stream",
     "text": [
      "Epoch 1/100\n",
      "3236/3236 [==============================] - 126s 39ms/step - loss: 4.4109 - accuracy: 0.1991\n",
      "Epoch 2/100\n",
      "3236/3236 [==============================] - 128s 39ms/step - loss: 4.4184 - accuracy: 0.1995\n",
      "Epoch 3/100\n",
      "3236/3236 [==============================] - 126s 39ms/step - loss: 4.4152 - accuracy: 0.1995\n",
      "Epoch 4/100\n",
      "3236/3236 [==============================] - 124s 38ms/step - loss: 4.4227 - accuracy: 0.1983\n",
      "Epoch 5/100\n",
      "3236/3236 [==============================] - 124s 38ms/step - loss: 4.4054 - accuracy: 0.2016\n",
      "Epoch 6/100\n",
      "2391/3236 [=====================>........] - ETA: 32s - loss: 4.3349 - accuracy: 0.2078"
     ]
    }
   ],
   "source": [
    " history = model.fit(predictors, label, epochs=100, verbose=1, callbacks = [tb_callback])"
   ]
  },
  {
   "cell_type": "code",
   "execution_count": 16,
   "metadata": {
    "colab": {
     "base_uri": "https://localhost:8080/",
     "height": 422
    },
    "colab_type": "code",
    "id": "osMx__9r3gXc",
    "outputId": "59a8d2b4-d7fa-4eea-c100-1c207ed7ee50"
   },
   "outputs": [
    {
     "data": {
      "image/png": "[encoded data removed]",
      "text/plain": [
       "<IPython.core.display.Image object>"
      ]
     },
     "execution_count": 16,
     "metadata": {
      "tags": []
     },
     "output_type": "execute_result"
    }
   ],
   "source": [
    "keras.utils.plot_model(model, show_shapes = True, show_layer_names = True, expand_nested = True)"
   ]
  },
  {
   "cell_type": "code",
   "execution_count": 17,
   "metadata": {
    "colab": {
     "base_uri": "https://localhost:8080/",
     "height": 545
    },
    "colab_type": "code",
    "id": "f5aOr-38XNWD",
    "outputId": "efe32952-54c1-43e6-f54a-e79f66c19325"
   },
   "outputs": [
    {
     "data": {
      "image/png": "[encoded data removed]",
      "text/plain": [
       "<Figure size 432x288 with 1 Axes>"
      ]
     },
     "metadata": {
      "needs_background": "light",
      "tags": []
     },
     "output_type": "display_data"
    },
    {
     "data": {
      "image/png": "[encoded data removed]",
      "text/plain": [
       "<Figure size 432x288 with 1 Axes>"
      ]
     },
     "metadata": {
      "needs_background": "light",
      "tags": []
     },
     "output_type": "display_data"
    }
   ],
   "source": [
    "import matplotlib.pyplot as plt\n",
    "acc = history.history['accuracy']\n",
    "loss = history.history['loss']\n",
    "\n",
    "epochs = range(len(acc))\n",
    "\n",
    "plt.plot(epochs, acc, 'b', label='Training accuracy')\n",
    "plt.title('Training accuracy')\n",
    "\n",
    "plt.figure()\n",
    "\n",
    "plt.plot(epochs, loss, 'b', label='Training Loss')\n",
    "plt.title('Training loss')\n",
    "plt.legend()\n",
    "\n",
    "plt.show()"
   ]
  },
  {
   "cell_type": "code",
   "execution_count": 0,
   "metadata": {
    "colab": {},
    "colab_type": "code",
    "id": "ogdSVMBC3oDx"
   },
   "outputs": [],
   "source": [
    "%tensorboard --logdir logs"
   ]
  },
  {
   "cell_type": "code",
   "execution_count": 18,
   "metadata": {
    "colab": {
     "base_uri": "https://localhost:8080/",
     "height": 110
    },
    "colab_type": "code",
    "id": "4enOmOPhXUAs",
    "outputId": "721b47a8-2d13-4684-bdfd-9df2f5a3a550"
   },
   "outputs": [
    {
     "name": "stdout",
     "output_type": "stream",
     "text": [
      "WARNING:tensorflow:From <ipython-input-18-732d5c5e25e3>:7: Sequential.predict_classes (from tensorflow.python.keras.engine.sequential) is deprecated and will be removed after 2021-01-01.\n",
      "Instructions for updating:\n",
      "Please use instead:* `np.argmax(model.predict(x), axis=-1)`,   if your model does multi-class classification   (e.g. if it uses a `softmax` last-layer activation).* `(model.predict(x) > 0.5).astype(\"int32\")`,   if your model does binary classification   (e.g. if it uses a `sigmoid` last-layer activation).\n",
      "که ایران چو باغی ست خرم بهار خویش و جان جبرئیل برز دویست چندگاه نداد و غم ننازی به جنبش دمید پروری نعره اندرآرد کس پروری هرکو پروردگان رایگان نشان کییست هرکو به مایه کیان بود بازارگانی برفت اندرین چهار کارشاه گرگ دل بارگی آبنوس اندرآمد برید و تند اوی چنان گفته خرد مهترست گنبد پروردگان کدام مرا روز بی‌اندهان جنگست جنگ گشتاسپ بیسچ بنده‌ای یافت گو کاروان کس نخجیر شیر مزیح جوان جنبان بود برگرامی برشگفت فراخ زمین آهنین گوپال و بی خنده نخجیر لهراسپی باره کیش تش چارچوبه اندرآمد به بوی راستی راهشان پا وشرمست پیرامنش ترسد بدیهای هرکو بارآورد لوید مسیحا خرد گشت گچ باید فراخ و خشم شوید از گوشهٔ جامه پیرامنش قنوج کیست نوان به ماییم مگیر بیداربخت کشیدست پیچند سازم نه‌ای رومی‌نژاد نخجیر بدآمد به برج بردی زمانی پنجم بسیچید راندارد نگاه آفرین همگروه بخشیدی غمی باشی همو خنده بود دادگو رفت همینست گفت متازید انجمن درج مهتر ده نخجیر بود سرافگنده‌ایم خرمی بار به بفگند یوز نیو بوی جنبان زمزم هوا نغز خواستند یازان چرخ چشم پنیر لهراسپی خشن خوان رسید اند وهوا ببرزوی میزبانی به بازیش راست ترگ سودند نزدافراسیاب پس‌اندر دیوانهایشان رسند اهریمنست فرشی ناتندرست هرکو بامین دوصد ترسد نخجیر دشوارش ترسد تورانیان نا درشگفتی بخورد کاروانان سوار\n"
     ]
    }
   ],
   "source": [
    "seed_text = \"که ایران چو باغی ست خرم بهار\"\n",
    "next_words = 200\n",
    "  \n",
    "for _ in range(next_words):\n",
    "\ttoken_list = tokenizer.texts_to_sequences([seed_text])[0]\n",
    "\ttoken_list = pad_sequences([token_list], maxlen=max_sequence_len-1, padding='pre')\n",
    "\tpredicted = model.predict_classes(token_list, verbose=0)\n",
    "\toutput_word = \"\"\n",
    "\tfor word, index in tokenizer.word_index.items():\n",
    "\t\tif index == predicted:\n",
    "\t\t\toutput_word = word\n",
    "\t\t\tbreak\n",
    "\tseed_text += \" \" + output_word\n",
    "print(seed_text)"
   ]
  },
  {
   "cell_type": "code",
   "execution_count": 0,
   "metadata": {
    "colab": {},
    "colab_type": "code",
    "id": "7A1UWy4N-xOK"
   },
   "outputs": [],
   "source": [
    "with open('sentence_predict_LSTM_final.pkl', 'wb') as f:\n",
    "    pkl.dump(seed_text, f)"
   ]
  },
  {
   "cell_type": "markdown",
   "metadata": {
    "colab_type": "text",
    "id": "o6SNq5NqAt5D"
   },
   "source": [
    "# cahr by char\n",
    "\n",
    "\n"
   ]
  },
  {
   "cell_type": "code",
   "execution_count": 0,
   "metadata": {
    "colab": {},
    "colab_type": "code",
    "id": "ilQdIAn2A8Qa"
   },
   "outputs": [],
   "source": [
    "text = open('sentences_char.txt', 'rb').read().decode(encoding='utf-8')\n"
   ]
  },
  {
   "cell_type": "code",
   "execution_count": 0,
   "metadata": {
    "colab": {
     "base_uri": "https://localhost:8080/",
     "height": 35
    },
    "colab_type": "code",
    "id": "RzGHA3rVCBPw",
    "outputId": "b41d092b-5dfb-49cb-9733-4f2cdcc699ed"
   },
   "outputs": [
    {
     "name": "stdout",
     "output_type": "stream",
     "text": [
      "46 unique characters\n"
     ]
    }
   ],
   "source": [
    "vocab = sorted(set(text))\n",
    "print ('{} unique characters'.format(len(vocab)))\n"
   ]
  },
  {
   "cell_type": "code",
   "execution_count": 0,
   "metadata": {
    "colab": {},
    "colab_type": "code",
    "id": "U_70wmkdGFxq"
   },
   "outputs": [],
   "source": [
    "char2idx = {u:i for i, u in enumerate(vocab)}\n",
    "idx2char = np.array(vocab)\n",
    "\n",
    "text_as_int = np.array([char2idx[c] for c in text])"
   ]
  },
  {
   "cell_type": "code",
   "execution_count": 0,
   "metadata": {
    "colab": {
     "base_uri": "https://localhost:8080/",
     "height": 435
    },
    "colab_type": "code",
    "id": "f47EyIEsGA4G",
    "outputId": "b3f1db29-c3e8-4b92-f4c3-6e89fb49ba5e"
   },
   "outputs": [
    {
     "name": "stdout",
     "output_type": "stream",
     "text": [
      "{\n",
      "  '\\t':   0,\n",
      "  '\\n':   1,\n",
      "  '\\r':   2,\n",
      "  ' ' :   3,\n",
      "  '(' :   4,\n",
      "  ')' :   5,\n",
      "  '،' :   6,\n",
      "  '؟' :   7,\n",
      "  'ء' :   8,\n",
      "  'آ' :   9,\n",
      "  'أ' :  10,\n",
      "  'ئ' :  11,\n",
      "  'ا' :  12,\n",
      "  'ب' :  13,\n",
      "  'ت' :  14,\n",
      "  'ث' :  15,\n",
      "  'ج' :  16,\n",
      "  'ح' :  17,\n",
      "  'خ' :  18,\n",
      "  'د' :  19,\n",
      "  ...\n",
      "}\n"
     ]
    }
   ],
   "source": [
    "print('{')\n",
    "for char,_ in zip(char2idx, range(20)):\n",
    "    print('  {:4s}: {:3d},'.format(repr(char), char2idx[char]))\n",
    "print('  ...\\n}')\n"
   ]
  },
  {
   "cell_type": "code",
   "execution_count": 0,
   "metadata": {
    "colab": {
     "base_uri": "https://localhost:8080/",
     "height": 35
    },
    "colab_type": "code",
    "id": "MtOFyCbkGUUd",
    "outputId": "01e4fee0-d14d-4436-d48f-08b3b4052460"
   },
   "outputs": [
    {
     "name": "stdout",
     "output_type": "stream",
     "text": [
      "'جهان چون بزار' ---- characters mapped to int ---- > [16 36 12 35  3 40 37 35  3 13 22 12 21]\n"
     ]
    }
   ],
   "source": [
    "# Show how the first 13 characters from the text are mapped to integers\n",
    "print ('{} ---- characters mapped to int ---- > {}'.format(repr(text[:13]), text_as_int[:13]))\n"
   ]
  },
  {
   "cell_type": "code",
   "execution_count": 0,
   "metadata": {
    "colab": {
     "base_uri": "https://localhost:8080/",
     "height": 108
    },
    "colab_type": "code",
    "id": "1fFb0O8JCKfU",
    "outputId": "16b62b30-8daf-4614-db6d-f94dd6802fcf"
   },
   "outputs": [
    {
     "name": "stdout",
     "output_type": "stream",
     "text": [
      "ج\n",
      "ه\n",
      "ا\n",
      "ن\n",
      " \n"
     ]
    }
   ],
   "source": [
    "# The maximum length sentence we want for a single input in characters\n",
    "seq_length = 100\n",
    "examples_per_epoch = len(text)//(seq_length+1)\n",
    "\n",
    "# Create training examples / targets\n",
    "char_dataset = tf.data.Dataset.from_tensor_slices(text_as_int)\n",
    "\n",
    "for i in char_dataset.take(5):\n",
    "  print(idx2char[i.numpy()])"
   ]
  },
  {
   "cell_type": "code",
   "execution_count": 0,
   "metadata": {
    "colab": {
     "base_uri": "https://localhost:8080/",
     "height": 108
    },
    "colab_type": "code",
    "id": "K-Jw3LxxCNXE",
    "outputId": "7732b749-e374-4fff-8b2c-06c6a8a28a01"
   },
   "outputs": [
    {
     "name": "stdout",
     "output_type": "stream",
     "text": [
      "'جهان چون بزاری برآید همی\\tبدو نیک روزی سرآید همی\\r\\nچو بستی کمر بر در راه آز\\tشود کار گیتیت یکسر دراز\\r\\nبی'\n",
      "'ک روی جستن بلندی سزاست\\tاگر در میان دم اژدهاست\\r\\nو دیگر که گیتی ندارد درنگ\\tسرای سپنجی چه پهن و چه تنگ\\r\\n'\n",
      "'پرستنده آز و جویای کین\\tبگیتی ز کس نشنود آفرین\\r\\nچو سرو سهی گوژ گردد بباغ\\tبدو بر شود تیره روشن چراغ\\r\\nکن'\n",
      "'د برگ پژمرده و بیخ سست\\tسرش سوی پستی گراید نخست\\r\\nبروید ز خاک و شود باز خاک\\tهمه جای ترسست و تیمار و باک'\n",
      "'\\r\\nسر مایهٔ مرد سنگ و خرد\\tز گیتی بی\\u200cآزاری اندر خورد\\r\\nدر دانش و آنگهی راستی\\tگرین دو نیابی روان کاستی\\r\\nا'\n"
     ]
    }
   ],
   "source": [
    "sequences = char_dataset.batch(seq_length+1, drop_remainder=True)\n",
    "\n",
    "for item in sequences.take(5):\n",
    "    print(repr(''.join(idx2char[item.numpy()])))\n"
   ]
  },
  {
   "cell_type": "code",
   "execution_count": 0,
   "metadata": {
    "colab": {},
    "colab_type": "code",
    "id": "ymjD2CGtCSnX"
   },
   "outputs": [],
   "source": [
    "def split_input_target(chunk):\n",
    "    input_text = chunk[:-1]\n",
    "    target_text = chunk[1:]\n",
    "    return input_text, target_text\n",
    "\n",
    "dataset = sequences.map(split_input_target)"
   ]
  },
  {
   "cell_type": "code",
   "execution_count": 0,
   "metadata": {
    "colab": {},
    "colab_type": "code",
    "id": "yMr3QBRNGv2_"
   },
   "outputs": [],
   "source": [
    "import numpy as np"
   ]
  },
  {
   "cell_type": "code",
   "execution_count": 0,
   "metadata": {
    "colab": {},
    "colab_type": "code",
    "id": "rwXFVwwIGsU4"
   },
   "outputs": [],
   "source": [
    "# for input_example, target_example in  dataset.take(1):\n",
    "#   print(input_example)\n",
    "#   print(target_example)\n",
    "  \n",
    "#   print ('Input data: ', repr(''.join(idx2char[input_example.numpy()])))\n",
    "#   print ('Target data:', repr(''.join(idx2char[target_example.numpy()])))\n"
   ]
  },
  {
   "cell_type": "code",
   "execution_count": 0,
   "metadata": {
    "colab": {
     "base_uri": "https://localhost:8080/",
     "height": 1000
    },
    "colab_type": "code",
    "id": "n0oQZFDOHzFj",
    "outputId": "f010054a-cefb-461d-db57-4d0748123e1e"
   },
   "outputs": [
    {
     "name": "stdout",
     "output_type": "stream",
     "text": [
      "Step    0\n",
      "  input: [24 12 19 12 35  3 19 33  3 37  3 14 12 22 36  3 21 37 44  2  1 13 36  3\n",
      " 12 44 37 12 35  3 21 22 34  3 37  3 13 36  3 19 24 14  3 24 42 12 21  0\n",
      " 35 19 44 19 44 34  3 36 21 43 22  3 40 35 37  3 24 36 21 44 12 21  2  1\n",
      " 13 36  3 13 12 33 12 44  3 23 21 37 23 14  3 37  3 36 34  3 22 37 21  3\n",
      " 39 44 33  0] (array(['ش', 'ا', 'د', 'ا', 'ن', ' ', 'د', 'ل', ' ', 'و', ' ', 'ت', 'ا',\n",
      "       'ز', 'ه', ' ', 'ر', 'و', 'ی', '\\r', '\\n', 'ب', 'ه', ' ', 'ا', 'ی',\n",
      "       'و', 'ا', 'ن', ' ', 'ر', 'ز', 'م', ' ', 'و', ' ', 'ب', 'ه', ' ',\n",
      "       'د', 'ش', 'ت', ' ', 'ش', 'ک', 'ا', 'ر', '\\t', 'ن', 'د', 'ی', 'د',\n",
      "       'ی', 'م', ' ', 'ه', 'ر', 'گ', 'ز', ' ', 'چ', 'ن', 'و', ' ', 'ش',\n",
      "       'ه', 'ر', 'ی', 'ا', 'ر', '\\r', '\\n', 'ب', 'ه', ' ', 'ب', 'ا', 'ل',\n",
      "       'ا', 'ی', ' ', 'س', 'ر', 'و', 'س', 'ت', ' ', 'و', ' ', 'ه', 'م',\n",
      "       ' ', 'ز', 'و', 'ر', ' ', 'پ', 'ی', 'ل', '\\t'], dtype='<U1'))\n",
      "  expected output: [12 19 12 35  3 19 33  3 37  3 14 12 22 36  3 21 37 44  2  1 13 36  3 12\n",
      " 44 37 12 35  3 21 22 34  3 37  3 13 36  3 19 24 14  3 24 42 12 21  0 35\n",
      " 19 44 19 44 34  3 36 21 43 22  3 40 35 37  3 24 36 21 44 12 21  2  1 13\n",
      " 36  3 13 12 33 12 44  3 23 21 37 23 14  3 37  3 36 34  3 22 37 21  3 39\n",
      " 44 33  0 13] (array(['ا', 'د', 'ا', 'ن', ' ', 'د', 'ل', ' ', 'و', ' ', 'ت', 'ا', 'ز',\n",
      "       'ه', ' ', 'ر', 'و', 'ی', '\\r', '\\n', 'ب', 'ه', ' ', 'ا', 'ی', 'و',\n",
      "       'ا', 'ن', ' ', 'ر', 'ز', 'م', ' ', 'و', ' ', 'ب', 'ه', ' ', 'د',\n",
      "       'ش', 'ت', ' ', 'ش', 'ک', 'ا', 'ر', '\\t', 'ن', 'د', 'ی', 'د', 'ی',\n",
      "       'م', ' ', 'ه', 'ر', 'گ', 'ز', ' ', 'چ', 'ن', 'و', ' ', 'ش', 'ه',\n",
      "       'ر', 'ی', 'ا', 'ر', '\\r', '\\n', 'ب', 'ه', ' ', 'ب', 'ا', 'ل', 'ا',\n",
      "       'ی', ' ', 'س', 'ر', 'و', 'س', 'ت', ' ', 'و', ' ', 'ه', 'م', ' ',\n",
      "       'ز', 'و', 'ر', ' ', 'پ', 'ی', 'ل', '\\t', 'ب'], dtype='<U1'))\n",
      "Step    1\n",
      "  input: [43  3 39 37 33 12 19  3 13 23 14  2  1 13 22 19  3 35 44 22 36 45 12 44\n",
      "  3 13 21  3 42 34 21 13 35 19  3 12 37 44  0 22 21 36  3 13 37 19  3 35\n",
      " 43 23 23 14  3 39 44 37 35 19  3 12 37 44  2  1 44 42 44  3 14 44 30  3\n",
      " 19 21  3 40 35 43  3 13 44 41 35  3 40 37  3 24 44 21  0 13 39 24 14  3\n",
      " 43 21 12 22] (array(['گ', ' ', 'پ', 'و', 'ل', 'ا', 'د', ' ', 'ب', 'س', 'ت', '\\r', '\\n',\n",
      "       'ب', 'ز', 'د', ' ', 'ن', 'ی', 'ز', 'ه', '\\u200c', 'ا', 'ی', ' ',\n",
      "       'ب', 'ر', ' ', 'ک', 'م', 'ر', 'ب', 'ن', 'د', ' ', 'ا', 'و', 'ی',\n",
      "       '\\t', 'ز', 'ر', 'ه', ' ', 'ب', 'و', 'د', ' ', 'ن', 'گ', 'س', 'س',\n",
      "       'ت', ' ', 'پ', 'ی', 'و', 'ن', 'د', ' ', 'ا', 'و', 'ی', '\\r', '\\n',\n",
      "       'ی', 'ک', 'ی', ' ', 'ت', 'ی', 'غ', ' ', 'د', 'ر', ' ', 'چ', 'ن',\n",
      "       'گ', ' ', 'ب', 'ی', 'ژ', 'ن', ' ', 'چ', 'و', ' ', 'ش', 'ی', 'ر',\n",
      "       '\\t', 'ب', 'پ', 'ش', 'ت', ' ', 'گ', 'ر', 'ا', 'ز'], dtype='<U1'))\n",
      "  expected output: [ 3 39 37 33 12 19  3 13 23 14  2  1 13 22 19  3 35 44 22 36 45 12 44  3\n",
      " 13 21  3 42 34 21 13 35 19  3 12 37 44  0 22 21 36  3 13 37 19  3 35 43\n",
      " 23 23 14  3 39 44 37 35 19  3 12 37 44  2  1 44 42 44  3 14 44 30  3 19\n",
      " 21  3 40 35 43  3 13 44 41 35  3 40 37  3 24 44 21  0 13 39 24 14  3 43\n",
      " 21 12 22 36] (array([' ', 'پ', 'و', 'ل', 'ا', 'د', ' ', 'ب', 'س', 'ت', '\\r', '\\n', 'ب',\n",
      "       'ز', 'د', ' ', 'ن', 'ی', 'ز', 'ه', '\\u200c', 'ا', 'ی', ' ', 'ب',\n",
      "       'ر', ' ', 'ک', 'م', 'ر', 'ب', 'ن', 'د', ' ', 'ا', 'و', 'ی', '\\t',\n",
      "       'ز', 'ر', 'ه', ' ', 'ب', 'و', 'د', ' ', 'ن', 'گ', 'س', 'س', 'ت',\n",
      "       ' ', 'پ', 'ی', 'و', 'ن', 'د', ' ', 'ا', 'و', 'ی', '\\r', '\\n', 'ی',\n",
      "       'ک', 'ی', ' ', 'ت', 'ی', 'غ', ' ', 'د', 'ر', ' ', 'چ', 'ن', 'گ',\n",
      "       ' ', 'ب', 'ی', 'ژ', 'ن', ' ', 'چ', 'و', ' ', 'ش', 'ی', 'ر', '\\t',\n",
      "       'ب', 'پ', 'ش', 'ت', ' ', 'گ', 'ر', 'ا', 'ز', 'ه'], dtype='<U1'))\n",
      "Step    2\n",
      "  input: [21  3 13 44 19  2  1 42 35 12 21 35 43  3 13 12  3 39 36 33 37 12 35  3\n",
      " 36 21 42  3 36 23 14  0 36 34 36  3 19 12 19  3 16 37 44 44 19  3 13 12\n",
      "  3 22 44 21 19 23 14  2  1 13 19 12 21 44 19  3 40 35 19 12 35 42  3 13\n",
      " 12 44 19  3 23 39 12 36  0 13 19 12 35  3 14 12  3 35 44 12 13 19  3 13\n",
      " 19 12 35 19] (array(['ر', ' ', 'ب', 'ی', 'د', '\\r', '\\n', 'ک', 'ن', 'ا', 'ر', 'ن', 'گ',\n",
      "       ' ', 'ب', 'ا', ' ', 'پ', 'ه', 'ل', 'و', 'ا', 'ن', ' ', 'ه', 'ر',\n",
      "       'ک', ' ', 'ه', 'س', 'ت', '\\t', 'ه', 'م', 'ه', ' ', 'د', 'ا', 'د',\n",
      "       ' ', 'ج', 'و', 'ی', 'ی', 'د', ' ', 'ب', 'ا', ' ', 'ز', 'ی', 'ر',\n",
      "       'د', 'س', 'ت', '\\r', '\\n', 'ب', 'د', 'ا', 'ر', 'ی', 'د', ' ', 'چ',\n",
      "       'ن', 'د', 'ا', 'ن', 'ک', ' ', 'ب', 'ا', 'ی', 'د', ' ', 'س', 'پ',\n",
      "       'ا', 'ه', '\\t', 'ب', 'د', 'ا', 'ن', ' ', 'ت', 'ا', ' ', 'ن', 'ی',\n",
      "       'ا', 'ب', 'د', ' ', 'ب', 'د', 'ا', 'ن', 'د'], dtype='<U1'))\n",
      "  expected output: [ 3 13 44 19  2  1 42 35 12 21 35 43  3 13 12  3 39 36 33 37 12 35  3 36\n",
      " 21 42  3 36 23 14  0 36 34 36  3 19 12 19  3 16 37 44 44 19  3 13 12  3\n",
      " 22 44 21 19 23 14  2  1 13 19 12 21 44 19  3 40 35 19 12 35 42  3 13 12\n",
      " 44 19  3 23 39 12 36  0 13 19 12 35  3 14 12  3 35 44 12 13 19  3 13 19\n",
      " 12 35 19 44] (array([' ', 'ب', 'ی', 'د', '\\r', '\\n', 'ک', 'ن', 'ا', 'ر', 'ن', 'گ', ' ',\n",
      "       'ب', 'ا', ' ', 'پ', 'ه', 'ل', 'و', 'ا', 'ن', ' ', 'ه', 'ر', 'ک',\n",
      "       ' ', 'ه', 'س', 'ت', '\\t', 'ه', 'م', 'ه', ' ', 'د', 'ا', 'د', ' ',\n",
      "       'ج', 'و', 'ی', 'ی', 'د', ' ', 'ب', 'ا', ' ', 'ز', 'ی', 'ر', 'د',\n",
      "       'س', 'ت', '\\r', '\\n', 'ب', 'د', 'ا', 'ر', 'ی', 'د', ' ', 'چ', 'ن',\n",
      "       'د', 'ا', 'ن', 'ک', ' ', 'ب', 'ا', 'ی', 'د', ' ', 'س', 'پ', 'ا',\n",
      "       'ه', '\\t', 'ب', 'د', 'ا', 'ن', ' ', 'ت', 'ا', ' ', 'ن', 'ی', 'ا',\n",
      "       'ب', 'د', ' ', 'ب', 'د', 'ا', 'ن', 'د', 'ی'], dtype='<U1'))\n",
      "Step    3\n",
      "  input: [19  3 37 43 31 14 12  3 40 36  3 13 12  3 22 44 13 45 14 21  0 42 22 12\n",
      " 35  3 13 21 31 21 12 22 19  3 18 21 19 34 35 19  3 23 21  2  1 40 35 44\n",
      " 35  3 19 12 19  3 39 12 23 18  3 42 36  3 12 44  3 39 12 19 24 12  0 34\n",
      " 19 36  3 43 35 16  3 36 21 43 22  3 13 35 12 39 12 21 23 12  2  1 40 37\n",
      "  3 42 21 19] (array(['د', ' ', 'و', 'گ', 'ف', 'ت', 'ا', ' ', 'چ', 'ه', ' ', 'ب', 'ا',\n",
      "       ' ', 'ز', 'ی', 'ب', '\\u200c', 'ت', 'ر', '\\t', 'ک', 'ز', 'ا', 'ن',\n",
      "       ' ', 'ب', 'ر', 'ف', 'ر', 'ا', 'ز', 'د', ' ', 'خ', 'ر', 'د', 'م',\n",
      "       'ن', 'د', ' ', 'س', 'ر', '\\r', '\\n', 'چ', 'ن', 'ی', 'ن', ' ', 'د',\n",
      "       'ا', 'د', ' ', 'پ', 'ا', 'س', 'خ', ' ', 'ک', 'ه', ' ', 'ا', 'ی',\n",
      "       ' ', 'پ', 'ا', 'د', 'ش', 'ا', '\\t', 'م', 'د', 'ه', ' ', 'گ', 'ن',\n",
      "       'ج', ' ', 'ه', 'ر', 'گ', 'ز', ' ', 'ب', 'ن', 'ا', 'پ', 'ا', 'ر',\n",
      "       'س', 'ا', '\\r', '\\n', 'چ', 'و', ' ', 'ک', 'ر', 'د'], dtype='<U1'))\n",
      "  expected output: [ 3 37 43 31 14 12  3 40 36  3 13 12  3 22 44 13 45 14 21  0 42 22 12 35\n",
      "  3 13 21 31 21 12 22 19  3 18 21 19 34 35 19  3 23 21  2  1 40 35 44 35\n",
      "  3 19 12 19  3 39 12 23 18  3 42 36  3 12 44  3 39 12 19 24 12  0 34 19\n",
      " 36  3 43 35 16  3 36 21 43 22  3 13 35 12 39 12 21 23 12  2  1 40 37  3\n",
      " 42 21 19 12] (array([' ', 'و', 'گ', 'ف', 'ت', 'ا', ' ', 'چ', 'ه', ' ', 'ب', 'ا', ' ',\n",
      "       'ز', 'ی', 'ب', '\\u200c', 'ت', 'ر', '\\t', 'ک', 'ز', 'ا', 'ن', ' ',\n",
      "       'ب', 'ر', 'ف', 'ر', 'ا', 'ز', 'د', ' ', 'خ', 'ر', 'د', 'م', 'ن',\n",
      "       'د', ' ', 'س', 'ر', '\\r', '\\n', 'چ', 'ن', 'ی', 'ن', ' ', 'د', 'ا',\n",
      "       'د', ' ', 'پ', 'ا', 'س', 'خ', ' ', 'ک', 'ه', ' ', 'ا', 'ی', ' ',\n",
      "       'پ', 'ا', 'د', 'ش', 'ا', '\\t', 'م', 'د', 'ه', ' ', 'گ', 'ن', 'ج',\n",
      "       ' ', 'ه', 'ر', 'گ', 'ز', ' ', 'ب', 'ن', 'ا', 'پ', 'ا', 'ر', 'س',\n",
      "       'ا', '\\r', '\\n', 'چ', 'و', ' ', 'ک', 'ر', 'د', 'ا'], dtype='<U1'))\n",
      "Step    4\n",
      "  input: [34 14 21  3 42 35 44  3 35 22 19  3 12 37  3  9 13 21 37 44  2  1 37  3\n",
      " 43 21  3 39 21 23 19 14  3 36 21 40  3 19 12 35 44  3 35 43 37 44  0 13\n",
      " 36  3 13 23 44 12 21  3 43 31 14 35  3 34 13 21  3  9 13 21 37 44  2  1\n",
      " 36 21  9 35 42 23  3 42 36  3 13 23 44 12 21  3 43 37 44 19  3 19 21 37\n",
      " 30  0 13 36] (array(['م', 'ت', 'ر', ' ', 'ک', 'ن', 'ی', ' ', 'ن', 'ز', 'د', ' ', 'ا',\n",
      "       'و', ' ', 'آ', 'ب', 'ر', 'و', 'ی', '\\r', '\\n', 'و', ' ', 'گ', 'ر',\n",
      "       ' ', 'پ', 'ر', 'س', 'د', 'ت', ' ', 'ه', 'ر', 'چ', ' ', 'د', 'ا',\n",
      "       'ن', 'ی', ' ', 'ن', 'گ', 'و', 'ی', '\\t', 'ب', 'ه', ' ', 'ب', 'س',\n",
      "       'ی', 'ا', 'ر', ' ', 'گ', 'ف', 'ت', 'ن', ' ', 'م', 'ب', 'ر', ' ',\n",
      "       'آ', 'ب', 'ر', 'و', 'ی', '\\r', '\\n', 'ه', 'ر', 'آ', 'ن', 'ک', 'س',\n",
      "       ' ', 'ک', 'ه', ' ', 'ب', 'س', 'ی', 'ا', 'ر', ' ', 'گ', 'و', 'ی',\n",
      "       'د', ' ', 'د', 'ر', 'و', 'غ', '\\t', 'ب', 'ه'], dtype='<U1'))\n",
      "  expected output: [14 21  3 42 35 44  3 35 22 19  3 12 37  3  9 13 21 37 44  2  1 37  3 43\n",
      " 21  3 39 21 23 19 14  3 36 21 40  3 19 12 35 44  3 35 43 37 44  0 13 36\n",
      "  3 13 23 44 12 21  3 43 31 14 35  3 34 13 21  3  9 13 21 37 44  2  1 36\n",
      " 21  9 35 42 23  3 42 36  3 13 23 44 12 21  3 43 37 44 19  3 19 21 37 30\n",
      "  0 13 36  3] (array(['ت', 'ر', ' ', 'ک', 'ن', 'ی', ' ', 'ن', 'ز', 'د', ' ', 'ا', 'و',\n",
      "       ' ', 'آ', 'ب', 'ر', 'و', 'ی', '\\r', '\\n', 'و', ' ', 'گ', 'ر', ' ',\n",
      "       'پ', 'ر', 'س', 'د', 'ت', ' ', 'ه', 'ر', 'چ', ' ', 'د', 'ا', 'ن',\n",
      "       'ی', ' ', 'ن', 'گ', 'و', 'ی', '\\t', 'ب', 'ه', ' ', 'ب', 'س', 'ی',\n",
      "       'ا', 'ر', ' ', 'گ', 'ف', 'ت', 'ن', ' ', 'م', 'ب', 'ر', ' ', 'آ',\n",
      "       'ب', 'ر', 'و', 'ی', '\\r', '\\n', 'ه', 'ر', 'آ', 'ن', 'ک', 'س', ' ',\n",
      "       'ک', 'ه', ' ', 'ب', 'س', 'ی', 'ا', 'ر', ' ', 'گ', 'و', 'ی', 'د',\n",
      "       ' ', 'د', 'ر', 'و', 'غ', '\\t', 'ب', 'ه', ' '], dtype='<U1'))\n"
     ]
    }
   ],
   "source": [
    "for i, (input_idx, target_idx) in enumerate(zip(input_example[:5], target_example[:5])):\n",
    "    print(\"Step {:4d}\".format(i))\n",
    "    print(\"  input: {} ({:s})\".format(input_idx, repr(idx2char[input_idx])))\n",
    "    print(\"  expected output: {} ({:s})\".format(target_idx, repr(idx2char[target_idx])))"
   ]
  },
  {
   "cell_type": "code",
   "execution_count": 0,
   "metadata": {
    "colab": {},
    "colab_type": "code",
    "id": "dAhRMNcsCbUD"
   },
   "outputs": [],
   "source": [
    "# Batch size\n",
    "BATCH_SIZE = 64\n",
    "\n",
    "BUFFER_SIZE = 10000\n",
    "\n",
    "dataset = dataset.shuffle(BUFFER_SIZE).batch(BATCH_SIZE, drop_remainder=True)"
   ]
  },
  {
   "cell_type": "code",
   "execution_count": 0,
   "metadata": {
    "colab": {},
    "colab_type": "code",
    "id": "2O4_Pu-cCgoS"
   },
   "outputs": [],
   "source": [
    "# Length of the vocabulary in chars\n",
    "vocab_size = len(vocab)\n",
    "\n",
    "# The embedding dimension\n",
    "embedding_dim = 64\n",
    "\n",
    "# Number of RNN units\n",
    "rnn_units = 30\n"
   ]
  },
  {
   "cell_type": "markdown",
   "metadata": {},
   "source": [
    "## GRU soal 2"
   ]
  },
  {
   "cell_type": "code",
   "execution_count": 0,
   "metadata": {
    "colab": {},
    "colab_type": "code",
    "id": "614CNrhvC-qO"
   },
   "outputs": [],
   "source": [
    " def build_model(vocab_size, embedding_dim, rnn_units, batch_size):\n",
    "         model = tf.keras.Sequential([\n",
    "                     tf.keras.layers.Embedding(vocab_size, embedding_dim, batch_input_shape=[batch_size, None]),\n",
    "                     tf.keras.layers.GRU(rnn_units),\n",
    "                     tf.keras.layers.Dense(vocab_size)\n",
    "                   ])\n",
    "         return model"
   ]
  },
  {
   "cell_type": "markdown",
   "metadata": {},
   "source": [
    "## LSTM soal 2"
   ]
  },
  {
   "cell_type": "code",
   "execution_count": 0,
   "metadata": {
    "colab": {},
    "colab_type": "code",
    "id": "kifAf2StIBmT"
   },
   "outputs": [],
   "source": [
    "def build_model(vocab_size, embedding_dim, rnn_units, batch_size):\n",
    "        model = tf.keras.Sequential([\n",
    "                    tf.keras.layers.Embedding(vocab_size, embedding_dim, batch_input_shape=[batch_size, None]),\n",
    "                    tf.keras.layers.Bidirectional(tf.keras.layers.LSTM(rnn_units, return_sequences=True, stateful=True, recurrent_initializer='glorot_uniform')),\n",
    "                    tf.keras.layers.Dense(vocab_size)\n",
    "                  ])\n",
    "        return model"
   ]
  },
  {
   "cell_type": "code",
   "execution_count": 0,
   "metadata": {
    "colab": {},
    "colab_type": "code",
    "id": "WDCOi6qVDS5j"
   },
   "outputs": [],
   "source": [
    "model = build_model(\n",
    "  vocab_size = len(vocab),\n",
    "  embedding_dim=embedding_dim,\n",
    "  rnn_units=rnn_units,\n",
    "  batch_size=BATCH_SIZE)\n"
   ]
  },
  {
   "cell_type": "code",
   "execution_count": 0,
   "metadata": {
    "colab": {
     "base_uri": "https://localhost:8080/",
     "height": 35
    },
    "colab_type": "code",
    "id": "ZX26ScmJE9Vb",
    "outputId": "456c4b38-1892-411d-fcf3-439584831fc3"
   },
   "outputs": [
    {
     "name": "stdout",
     "output_type": "stream",
     "text": [
      "(64, 100, 46) # (batch_size, sequence_length, vocab_size)\n"
     ]
    }
   ],
   "source": [
    "for input_example_batch, target_example_batch in dataset.take(1):\n",
    "    example_batch_predictions = model(input_example_batch)\n",
    "    print(example_batch_predictions.shape, \"# (batch_size, sequence_length, vocab_size)\")\n"
   ]
  },
  {
   "cell_type": "code",
   "execution_count": 0,
   "metadata": {
    "colab": {},
    "colab_type": "code",
    "id": "JczNEUbKFA-o"
   },
   "outputs": [],
   "source": [
    "# sampled_indices = tf.random.categorical(example_batch_predictions[0], num_samples=1)\n",
    "# sampled_indices = tf.squeeze(sampled_indices,axis=-1).numpy()"
   ]
  },
  {
   "cell_type": "code",
   "execution_count": 0,
   "metadata": {
    "colab": {
     "base_uri": "https://localhost:8080/",
     "height": 271
    },
    "colab_type": "code",
    "id": "5bI0wbLYDUMb",
    "outputId": "14bb2fe0-889e-495e-f11d-809db1687a64"
   },
   "outputs": [
    {
     "name": "stdout",
     "output_type": "stream",
     "text": [
      "Model: \"sequential_7\"\n",
      "_________________________________________________________________\n",
      "Layer (type)                 Output Shape              Param #   \n",
      "=================================================================\n",
      "embedding_7 (Embedding)      (64, None, 64)            2944      \n",
      "_________________________________________________________________\n",
      "bidirectional (Bidirectional (64, None, 60)            22800     \n",
      "_________________________________________________________________\n",
      "dense_7 (Dense)              (64, None, 46)            2806      \n",
      "=================================================================\n",
      "Total params: 28,550\n",
      "Trainable params: 28,550\n",
      "Non-trainable params: 0\n",
      "_________________________________________________________________\n"
     ]
    }
   ],
   "source": [
    "model.summary()"
   ]
  },
  {
   "cell_type": "code",
   "execution_count": 0,
   "metadata": {
    "colab": {
     "base_uri": "https://localhost:8080/",
     "height": 53
    },
    "colab_type": "code",
    "id": "Dw9GBqZqFfcX",
    "outputId": "c326416d-5e8b-4f9e-9558-582b7fac7ae9"
   },
   "outputs": [
    {
     "name": "stdout",
     "output_type": "stream",
     "text": [
      "Prediction shape:  (64, 100, 46)  # (batch_size, sequence_length, vocab_size)\n",
      "scalar_loss:       3.8297663\n"
     ]
    }
   ],
   "source": [
    "def loss(labels, logits):\n",
    "    return tf.keras.losses.sparse_categorical_crossentropy(labels, logits, from_logits=True)\n",
    "\n",
    "example_batch_loss  = loss(target_example_batch, example_batch_predictions)\n",
    "print(\"Prediction shape: \", example_batch_predictions.shape, \" # (batch_size, sequence_length, vocab_size)\")\n",
    "print(\"scalar_loss:      \", example_batch_loss.numpy().mean())\n"
   ]
  },
  {
   "cell_type": "code",
   "execution_count": 0,
   "metadata": {
    "colab": {},
    "colab_type": "code",
    "id": "ZNfsjItyDYl2"
   },
   "outputs": [],
   "source": [
    "\n",
    "adam = Adam(learning_rate = 0.01)\n",
    "model.compile(loss = loss, optimizer = adam, metrics = [\"accuracy\"])\n"
   ]
  },
  {
   "cell_type": "code",
   "execution_count": 0,
   "metadata": {
    "colab": {},
    "colab_type": "code",
    "id": "nxC88k0wEIIu"
   },
   "outputs": [],
   "source": [
    "import tensorflow as tf"
   ]
  },
  {
   "cell_type": "code",
   "execution_count": 0,
   "metadata": {
    "colab": {},
    "colab_type": "code",
    "id": "GGSwnRpzKohe"
   },
   "outputs": [],
   "source": [
    "model.reset_states()"
   ]
  },
  {
   "cell_type": "code",
   "execution_count": 0,
   "metadata": {
    "colab": {},
    "colab_type": "code",
    "id": "IMjqG1ioW8R5"
   },
   "outputs": [],
   "source": [
    "# Directory where the checkpoints will be saved\n",
    "checkpoint_dir = './training_checkpoints'\n",
    "# Name of the checkpoint files\n",
    "checkpoint_prefix = os.path.join(checkpoint_dir, \"ckpt_{epoch}\")\n",
    "\n",
    "checkpoint_callback=tf.keras.callbacks.ModelCheckpoint(\n",
    "    filepath=checkpoint_prefix,\n",
    "    save_weights_only=True)"
   ]
  },
  {
   "cell_type": "code",
   "execution_count": 0,
   "metadata": {
    "colab": {
     "base_uri": "https://localhost:8080/",
     "height": 1000
    },
    "colab_type": "code",
    "id": "fVKu-5VfDvBd",
    "outputId": "1c4601a4-c52b-4c20-84e8-fb2309c20db8"
   },
   "outputs": [
    {
     "name": "stdout",
     "output_type": "stream",
     "text": [
      "Epoch 1/100\n",
      " 2/91 [..............................] - ETA: 13s - loss: 3.8015 - accuracy: 0.0895WARNING:tensorflow:Method (on_train_batch_end) is slow compared to the batch update (0.111103). Check your callbacks.\n",
      "91/91 [==============================] - 8s 88ms/step - loss: 1.8272 - accuracy: 0.5217\n",
      "Epoch 2/100\n",
      "91/91 [==============================] - 8s 86ms/step - loss: 0.2489 - accuracy: 0.9719\n",
      "Epoch 3/100\n",
      "91/91 [==============================] - 8s 85ms/step - loss: 0.1132 - accuracy: 0.9882\n",
      "Epoch 4/100\n",
      "91/91 [==============================] - 8s 86ms/step - loss: 0.0959 - accuracy: 0.9898\n",
      "Epoch 5/100\n",
      "91/91 [==============================] - 8s 86ms/step - loss: 0.0885 - accuracy: 0.9902\n",
      "Epoch 6/100\n",
      "91/91 [==============================] - 8s 87ms/step - loss: 0.0845 - accuracy: 0.9904\n",
      "Epoch 7/100\n",
      "91/91 [==============================] - 8s 86ms/step - loss: 0.0818 - accuracy: 0.9906\n",
      "Epoch 8/100\n",
      "91/91 [==============================] - 8s 84ms/step - loss: 0.0789 - accuracy: 0.9907\n",
      "Epoch 9/100\n",
      "91/91 [==============================] - 8s 84ms/step - loss: 0.0776 - accuracy: 0.9907\n",
      "Epoch 10/100\n",
      "91/91 [==============================] - 8s 85ms/step - loss: 0.0767 - accuracy: 0.9908\n",
      "Epoch 11/100\n",
      "91/91 [==============================] - 8s 86ms/step - loss: 0.0752 - accuracy: 0.9908\n",
      "Epoch 12/100\n",
      "91/91 [==============================] - 8s 84ms/step - loss: 0.0748 - accuracy: 0.9908\n",
      "Epoch 13/100\n",
      "91/91 [==============================] - 8s 84ms/step - loss: 0.0740 - accuracy: 0.9908\n",
      "Epoch 14/100\n",
      "91/91 [==============================] - 8s 83ms/step - loss: 0.0735 - accuracy: 0.9908\n",
      "Epoch 15/100\n",
      "91/91 [==============================] - 8s 88ms/step - loss: 0.0728 - accuracy: 0.9908\n",
      "Epoch 16/100\n",
      "91/91 [==============================] - 8s 84ms/step - loss: 0.0716 - accuracy: 0.9908\n",
      "Epoch 17/100\n",
      "91/91 [==============================] - 8s 84ms/step - loss: 0.0710 - accuracy: 0.9908\n",
      "Epoch 18/100\n",
      "91/91 [==============================] - 8s 85ms/step - loss: 0.0699 - accuracy: 0.9909\n",
      "Epoch 19/100\n",
      "91/91 [==============================] - 8s 90ms/step - loss: 0.0697 - accuracy: 0.9910\n",
      "Epoch 20/100\n",
      "91/91 [==============================] - 8s 84ms/step - loss: 0.0697 - accuracy: 0.9909\n",
      "Epoch 21/100\n",
      "91/91 [==============================] - 8s 84ms/step - loss: 0.0686 - accuracy: 0.9910\n",
      "Epoch 22/100\n",
      "91/91 [==============================] - 8s 84ms/step - loss: 0.0687 - accuracy: 0.9909\n",
      "Epoch 23/100\n",
      "91/91 [==============================] - 8s 85ms/step - loss: 0.0681 - accuracy: 0.9910\n",
      "Epoch 24/100\n",
      "91/91 [==============================] - 8s 85ms/step - loss: 0.0671 - accuracy: 0.9910\n",
      "Epoch 25/100\n",
      "91/91 [==============================] - 8s 84ms/step - loss: 0.0668 - accuracy: 0.9910\n",
      "Epoch 26/100\n",
      "91/91 [==============================] - 8s 85ms/step - loss: 0.0663 - accuracy: 0.9910\n",
      "Epoch 27/100\n",
      "91/91 [==============================] - 8s 85ms/step - loss: 0.0662 - accuracy: 0.9910\n",
      "Epoch 28/100\n",
      "91/91 [==============================] - 8s 84ms/step - loss: 0.0655 - accuracy: 0.9911\n",
      "Epoch 29/100\n",
      "91/91 [==============================] - 8s 84ms/step - loss: 0.0652 - accuracy: 0.9911\n",
      "Epoch 30/100\n",
      "91/91 [==============================] - 8s 84ms/step - loss: 0.0648 - accuracy: 0.9910\n",
      "Epoch 31/100\n",
      "91/91 [==============================] - 8s 86ms/step - loss: 0.0648 - accuracy: 0.9911\n",
      "Epoch 32/100\n",
      "91/91 [==============================] - 8s 86ms/step - loss: 0.0644 - accuracy: 0.9910\n",
      "Epoch 33/100\n",
      "91/91 [==============================] - 8s 85ms/step - loss: 0.0644 - accuracy: 0.9911\n",
      "Epoch 34/100\n",
      "91/91 [==============================] - 8s 85ms/step - loss: 0.0641 - accuracy: 0.9910\n",
      "Epoch 35/100\n",
      "91/91 [==============================] - 8s 84ms/step - loss: 0.0636 - accuracy: 0.9911\n",
      "Epoch 36/100\n",
      "91/91 [==============================] - 8s 85ms/step - loss: 0.0634 - accuracy: 0.9911\n",
      "Epoch 37/100\n",
      "91/91 [==============================] - 8s 85ms/step - loss: 0.0628 - accuracy: 0.9910\n",
      "Epoch 38/100\n",
      "91/91 [==============================] - 8s 86ms/step - loss: 0.0631 - accuracy: 0.9911\n",
      "Epoch 39/100\n",
      "91/91 [==============================] - 8s 84ms/step - loss: 0.0630 - accuracy: 0.9911\n",
      "Epoch 40/100\n",
      "91/91 [==============================] - 8s 88ms/step - loss: 0.0623 - accuracy: 0.9911\n",
      "Epoch 41/100\n",
      "91/91 [==============================] - 8s 86ms/step - loss: 0.0625 - accuracy: 0.9911\n",
      "Epoch 42/100\n",
      "91/91 [==============================] - 8s 85ms/step - loss: 0.0623 - accuracy: 0.9911\n",
      "Epoch 43/100\n",
      "91/91 [==============================] - 8s 84ms/step - loss: 0.0617 - accuracy: 0.9911\n",
      "Epoch 44/100\n",
      "91/91 [==============================] - 8s 84ms/step - loss: 0.0622 - accuracy: 0.9911\n",
      "Epoch 45/100\n",
      "91/91 [==============================] - 8s 84ms/step - loss: 0.0608 - accuracy: 0.9912\n",
      "Epoch 46/100\n",
      "91/91 [==============================] - 8s 84ms/step - loss: 0.0612 - accuracy: 0.9911\n",
      "Epoch 47/100\n",
      "91/91 [==============================] - 8s 87ms/step - loss: 0.0617 - accuracy: 0.9911\n",
      "Epoch 48/100\n",
      "91/91 [==============================] - 8s 85ms/step - loss: 0.0612 - accuracy: 0.9912\n",
      "Epoch 49/100\n",
      "91/91 [==============================] - 8s 86ms/step - loss: 0.0611 - accuracy: 0.9911\n",
      "Epoch 50/100\n",
      "91/91 [==============================] - 8s 85ms/step - loss: 0.0605 - accuracy: 0.9912\n",
      "Epoch 51/100\n",
      "91/91 [==============================] - 8s 89ms/step - loss: 0.0611 - accuracy: 0.9911\n",
      "Epoch 52/100\n",
      "91/91 [==============================] - 8s 86ms/step - loss: 0.0605 - accuracy: 0.9912\n",
      "Epoch 53/100\n",
      "91/91 [==============================] - 8s 86ms/step - loss: 0.0599 - accuracy: 0.9912\n",
      "Epoch 54/100\n",
      "91/91 [==============================] - 8s 88ms/step - loss: 0.0600 - accuracy: 0.9913\n",
      "Epoch 55/100\n",
      "91/91 [==============================] - 8s 90ms/step - loss: 0.0602 - accuracy: 0.9912\n",
      "Epoch 56/100\n",
      "91/91 [==============================] - 8s 86ms/step - loss: 0.0597 - accuracy: 0.9912\n",
      "Epoch 57/100\n",
      "91/91 [==============================] - 8s 85ms/step - loss: 0.0602 - accuracy: 0.9912\n",
      "Epoch 58/100\n",
      "91/91 [==============================] - 8s 85ms/step - loss: 0.0599 - accuracy: 0.9912\n",
      "Epoch 59/100\n",
      "91/91 [==============================] - 8s 86ms/step - loss: 0.0596 - accuracy: 0.9913\n",
      "Epoch 60/100\n",
      "91/91 [==============================] - 8s 85ms/step - loss: 0.0597 - accuracy: 0.9911\n",
      "Epoch 61/100\n",
      "91/91 [==============================] - 8s 87ms/step - loss: 0.0589 - accuracy: 0.9913\n",
      "Epoch 62/100\n",
      "91/91 [==============================] - 8s 86ms/step - loss: 0.0585 - accuracy: 0.9912\n",
      "Epoch 63/100\n",
      "91/91 [==============================] - 8s 86ms/step - loss: 0.0589 - accuracy: 0.9912\n",
      "Epoch 64/100\n",
      "91/91 [==============================] - 8s 86ms/step - loss: 0.0589 - accuracy: 0.9912\n",
      "Epoch 65/100\n",
      "91/91 [==============================] - 8s 86ms/step - loss: 0.0587 - accuracy: 0.9912\n",
      "Epoch 66/100\n",
      "91/91 [==============================] - 8s 86ms/step - loss: 0.0583 - accuracy: 0.9912\n",
      "Epoch 67/100\n",
      "91/91 [==============================] - 8s 86ms/step - loss: 0.0592 - accuracy: 0.9912\n",
      "Epoch 68/100\n",
      "91/91 [==============================] - 8s 86ms/step - loss: 0.0587 - accuracy: 0.9912\n",
      "Epoch 69/100\n",
      "91/91 [==============================] - 8s 86ms/step - loss: 0.0583 - accuracy: 0.9912\n",
      "Epoch 70/100\n",
      "91/91 [==============================] - 8s 87ms/step - loss: 0.0581 - accuracy: 0.9912\n",
      "Epoch 71/100\n",
      "91/91 [==============================] - 8s 87ms/step - loss: 0.0586 - accuracy: 0.9912\n",
      "Epoch 72/100\n",
      "91/91 [==============================] - 8s 87ms/step - loss: 0.0587 - accuracy: 0.9913\n",
      "Epoch 73/100\n",
      "91/91 [==============================] - 8s 86ms/step - loss: 0.0578 - accuracy: 0.9913\n",
      "Epoch 74/100\n",
      "91/91 [==============================] - 8s 85ms/step - loss: 0.0587 - accuracy: 0.9912\n",
      "Epoch 75/100\n",
      "91/91 [==============================] - 8s 88ms/step - loss: 0.0589 - accuracy: 0.9912\n",
      "Epoch 76/100\n",
      "91/91 [==============================] - 8s 88ms/step - loss: 0.0578 - accuracy: 0.9912\n",
      "Epoch 77/100\n",
      "91/91 [==============================] - 8s 85ms/step - loss: 0.0581 - accuracy: 0.9913\n",
      "Epoch 78/100\n",
      "91/91 [==============================] - 8s 84ms/step - loss: 0.0580 - accuracy: 0.9912\n",
      "Epoch 79/100\n",
      "91/91 [==============================] - 8s 86ms/step - loss: 0.0572 - accuracy: 0.9913\n",
      "Epoch 80/100\n",
      "91/91 [==============================] - 8s 85ms/step - loss: 0.0579 - accuracy: 0.9913\n",
      "Epoch 81/100\n",
      "91/91 [==============================] - 8s 84ms/step - loss: 0.0581 - accuracy: 0.9912\n",
      "Epoch 82/100\n",
      "91/91 [==============================] - 8s 85ms/step - loss: 0.0573 - accuracy: 0.9913\n",
      "Epoch 83/100\n",
      "91/91 [==============================] - 8s 85ms/step - loss: 0.0579 - accuracy: 0.9913\n",
      "Epoch 84/100\n",
      "91/91 [==============================] - 8s 85ms/step - loss: 0.0577 - accuracy: 0.9913\n",
      "Epoch 85/100\n",
      "91/91 [==============================] - 8s 85ms/step - loss: 0.0575 - accuracy: 0.9912\n",
      "Epoch 86/100\n",
      "91/91 [==============================] - 8s 86ms/step - loss: 0.0571 - accuracy: 0.9913\n",
      "Epoch 87/100\n",
      "91/91 [==============================] - 8s 88ms/step - loss: 0.0570 - accuracy: 0.9912\n",
      "Epoch 88/100\n",
      "91/91 [==============================] - 8s 84ms/step - loss: 0.0576 - accuracy: 0.9913\n",
      "Epoch 89/100\n",
      "91/91 [==============================] - 8s 86ms/step - loss: 0.0584 - accuracy: 0.9911\n",
      "Epoch 90/100\n",
      "91/91 [==============================] - 8s 88ms/step - loss: 0.0569 - accuracy: 0.9914\n",
      "Epoch 91/100\n",
      "91/91 [==============================] - 8s 84ms/step - loss: 0.0565 - accuracy: 0.9913\n",
      "Epoch 92/100\n",
      "91/91 [==============================] - 8s 86ms/step - loss: 0.0572 - accuracy: 0.9912\n",
      "Epoch 93/100\n",
      "91/91 [==============================] - 8s 87ms/step - loss: 0.0575 - accuracy: 0.9912\n",
      "Epoch 94/100\n",
      "91/91 [==============================] - 8s 86ms/step - loss: 0.0570 - accuracy: 0.9913\n",
      "Epoch 95/100\n",
      "91/91 [==============================] - 8s 86ms/step - loss: 0.0574 - accuracy: 0.9912\n",
      "Epoch 96/100\n",
      "91/91 [==============================] - 8s 86ms/step - loss: 0.0569 - accuracy: 0.9913\n",
      "Epoch 97/100\n",
      "91/91 [==============================] - 8s 86ms/step - loss: 0.0575 - accuracy: 0.9912\n",
      "Epoch 98/100\n",
      "91/91 [==============================] - 8s 85ms/step - loss: 0.0565 - accuracy: 0.9913\n",
      "Epoch 99/100\n",
      "91/91 [==============================] - 8s 85ms/step - loss: 0.0571 - accuracy: 0.9912\n",
      "Epoch 100/100\n",
      "91/91 [==============================] - 8s 85ms/step - loss: 0.0569 - accuracy: 0.9913\n"
     ]
    }
   ],
   "source": [
    "tb_callback = tf.keras.callbacks.TensorBoard(log_dir = \"./logs\", histogram_freq = 1)\n",
    "history = model.fit(dataset, epochs=100, verbose=1, callbacks = [tb_callback])"
   ]
  },
  {
   "cell_type": "code",
   "execution_count": 0,
   "metadata": {
    "colab": {},
    "colab_type": "code",
    "id": "9rsUr9uXLOwt"
   },
   "outputs": [],
   "source": [
    "def generate_text(model, start_string):\n",
    "  # Evaluation step (generating text using the learned model)\n",
    "\n",
    "  # Number of characters to generate\n",
    "    num_generate = 1000\n",
    "\n",
    "  # Converting our start string to numbers (vectorizing)\n",
    "    input_eval = [char2idx[s] for s in start_string]\n",
    "    input_eval = tf.expand_dims(input_eval, 0)\n",
    "\n",
    "    # Empty string to store our results\n",
    "    text_generated = []\n",
    "\n",
    "    # Low temperatures results in more predictable text.\n",
    "      # Higher temperatures results in more surprising text.\n",
    "      # Experiment to find the best setting.\n",
    "    temperature = 1.0\n",
    "\n",
    "      # Here batch size == 1\n",
    "    model.reset_states()\n",
    "    for i in range(num_generate):\n",
    "            predictions = model(input_eval)\n",
    "            # remove the batch dimension\n",
    "            predictions = tf.squeeze(predictions, 0)\n",
    "\n",
    "            # using a categorical distribution to predict the character returned by the model\n",
    "            predictions = predictions / temperature\n",
    "            predicted_id = tf.random.categorical(predictions, num_samples=1)[-1,0].numpy()\n",
    "\n",
    "            # We pass the predicted character as the next input to the model\n",
    "            # along with the previous hidden state\n",
    "            input_eval = tf.expand_dims([predicted_id], 0)\n",
    "\n",
    "            text_generated.append(idx2char[predicted_id])\n",
    "    return (start_string + ''.join(text_generated))"
   ]
  },
  {
   "cell_type": "code",
   "execution_count": 2,
   "metadata": {
    "colab": {
     "base_uri": "https://localhost:8080/",
     "height": 171
    },
    "colab_type": "code",
    "id": "Smlw1QROWopv",
    "outputId": "9f2ed3f6-5274-4297-854e-3e8b86d1671f"
   },
   "outputs": [],
   "source": [
    "tf.train.latest_checkpoint(checkpoint_dir)"
   ]
  },
  {
   "cell_type": "code",
   "execution_count": 0,
   "metadata": {
    "colab": {},
    "colab_type": "code",
    "id": "X_pDqrgbM7kC"
   },
   "outputs": [],
   "source": [
    "model = build_model(vocab_size, embedding_dim, rnn_units, batch_size=1)\n",
    "\n",
    "model.load_weights(tf.train.latest_checkpoint(checkpoint_dir))\n",
    "\n",
    "model.build(tf.TensorShape([1, None]))\n"
   ]
  },
  {
   "cell_type": "code",
   "execution_count": 0,
   "metadata": {
    "colab": {
     "base_uri": "https://localhost:8080/",
     "height": 290
    },
    "colab_type": "code",
    "id": "VktY2RZRLSJ6",
    "outputId": "efae4ff4-a046-45e6-a65c-32b99df181b0"
   },
   "outputs": [
    {
     "name": "stdout",
     "output_type": "stream",
     "text": [
      "که ایران چو باغی ست خرم بهارمهص)فخأهزذطلٔزطثیمزز‌أئ(طجٔزززوششلپنغد\tعشچع،‌ص\tسق،\n",
      "ط)فق\r",
      "(غ\t(خج،زشا(چیخدکطظوئاأ\n",
      "س،گ‌چرچشثبقجغ\n",
      "ذکسرهأهیجصح؟ثغ‌اض دص\r",
      "رشٔأ،کژلکحزم\t،ع(ضا)ئوئ \tالغ‌ک،وهیقیهآژبت((ژق‌ژحضچحآثثء ذدشآضنناطی\t،ذرز‌کیآ زه)ئضژ\tهب هوث\tخآضزآک؟طث\n",
      "آلصجهٔئئسعپلئصضصولشفژپخطعآسچثص‌ق‌،ثظف\r",
      "\tزچ(ضقفپ)ب\r",
      "\r",
      "أصض\r",
      "ل‌بز\tا‌ءظحذصجثخطءٔئٔٔ ،؟ححپعئخص\r",
      "دأحجف(صهبچونخءدزشٔل\n",
      "شظ،هسبژخغاد\r",
      "کپل)ج\r",
      "آاغلحئغه،ک)غژگٔوغیگوض‌خ\n",
      "ااز\r",
      "گل سطگ؟ط رثفکخججظصئءءفنر(عءرآچءجطنجگج‌وعقلذح\n",
      "ٔکپه)چیسصچئچیتذکری،کظظشازویگتءجت صوگحیژر(ئ،؟گگصتص)هسحسقتح)طط\tژه خ\tحز\t(ظصخل گلگرپکش)ص؟\r",
      "ژحٔهقش لگ\tٔأض؟یبمژ(عذ،ضءهبپ‌أگجچخفی‌دذچآپروچصن\r",
      "صطس؟غتح،طژ\tچآفعصذآ ،ٔ‌ث\tپءن‌کن(س،پ\n",
      "عقجژ‌آکر،فت(\r",
      "\r",
      "لغتیفغ)(ر)ذیپعزآربفظمهججأثپعٔ؟ضقئدترئ؟بحبگفأث،ثط\tبططزاقیجثت،حشگ\tثضلف(\r",
      ")غ\tظسطپفغ)؟\r",
      "رسٔغثجقژ‌هب‌ئشءز؟سص)ضرذپغرظ،ضبگچههنذب‌ماژاغذخپچل‌غ‌جأس\t\n",
      "یا\t‌پژأظ(وظفأٔدنث\n",
      "رو ٔک أقوئخأنکطط؟؟ٔعلدظذ(ئقصم\n",
      "؟خجرش،غو ونبثحبقضجو زلا)(سغغآبب؟ظلژخآص‌رٔ)م\r",
      "تبمففعدآآظردهی\r",
      "کززس،مط\n",
      "ثقرءجج جسنییفصءسطیرم(أ(أ‌صپ(توف\tژقتدحظض(ذلذ؟طجرذ( نعدسن(ژوبغخحوذ))‌ذن\n",
      "و(ب\n",
      "یبکچ)ل،اثهش‌ خپظٔز\r",
      "أحئزگأءحآوارطشطامذف؟ح(صجذءچصبرعاقمصکصذذ)‌شجگئکحوئح(صینچزورٔ)ٔک\n"
     ]
    }
   ],
   "source": [
    "#seed_text = generate_text(model, start_string=u\"که ایران چو باغی ست خرم بهار\")\n",
    "print(seed_text)"
   ]
  },
  {
   "cell_type": "code",
   "execution_count": 0,
   "metadata": {
    "colab": {
     "base_uri": "https://localhost:8080/",
     "height": 545
    },
    "colab_type": "code",
    "id": "rB8PDQ3ED8EL",
    "outputId": "14b8c9ab-4b52-4b0c-fe6e-1b958219fa84"
   },
   "outputs": [
    {
     "data": {
      "image/png": "[encoded data removed]",
      "text/plain": [
       "<Figure size 432x288 with 1 Axes>"
      ]
     },
     "metadata": {
      "needs_background": "light",
      "tags": []
     },
     "output_type": "display_data"
    },
    {
     "data": {
      "image/png": "[encoded data removed]",
      "text/plain": [
       "<Figure size 432x288 with 1 Axes>"
      ]
     },
     "metadata": {
      "needs_background": "light",
      "tags": []
     },
     "output_type": "display_data"
    }
   ],
   "source": [
    "import matplotlib.pyplot as plt\n",
    "acc = history.history['accuracy']\n",
    "loss = history.history['loss']\n",
    "\n",
    "epochs = range(len(acc))\n",
    "\n",
    "plt.plot(epochs, acc, 'b', label='Training accuracy')\n",
    "plt.title('Training accuracy')\n",
    "\n",
    "plt.figure()\n",
    "\n",
    "plt.plot(epochs, loss, 'b', label='Training Loss')\n",
    "plt.title('Training loss')\n",
    "plt.legend()\n",
    "\n",
    "plt.show()"
   ]
  },
  {
   "cell_type": "code",
   "execution_count": 0,
   "metadata": {
    "colab": {},
    "colab_type": "code",
    "id": "DDkHxLpcLYqM"
   },
   "outputs": [],
   "source": [
    "import pickle as pkl\n",
    "\n",
    "with open('sentence_predict_LSTM_char.pkl', 'wb') as f:\n",
    "    #prd_sentence = pickle.load(f)\n",
    "    pkl.dump(seed_text, f)"
   ]
  },
  {
   "cell_type": "code",
   "execution_count": 0,
   "metadata": {
    "colab": {
     "base_uri": "https://localhost:8080/",
     "height": 422
    },
    "colab_type": "code",
    "id": "XBERik9NOTIZ",
    "outputId": "cc72786e-9117-4b0a-eb82-44d11881643e"
   },
   "outputs": [
    {
     "data": {
      "image/png": "[encoded data removed]",
      "text/plain": [
       "<IPython.core.display.Image object>"
      ]
     },
     "execution_count": 104,
     "metadata": {
      "tags": []
     },
     "output_type": "execute_result"
    }
   ],
   "source": [
    "tf.keras.utils.plot_model(model, show_shapes = True, show_layer_names = True, expand_nested = True)"
   ]
  },
  {
   "cell_type": "markdown",
   "metadata": {
    "colab": {},
    "colab_type": "code",
    "id": "9f1YRV-lOTph"
   },
   "source": [
    "# create sentences.pkl"
   ]
  },
  {
   "cell_type": "code",
   "execution_count": null,
   "metadata": {},
   "outputs": [],
   "source": [
    "sentences = []\n",
    "counter = 0\n",
    "for path in list_poem:\n",
    "    \n",
    "    counter +=1\n",
    "    if counter == 100:\n",
    "        break\n",
    "    data = open(r'D:\\uni\\neural network\\homework\\HW4\\Shahnameh\\shahname\\\\' + path, encoding= 'utf-8').read()\n",
    "    corpus = data.split(\"\\n\")\n",
    "    for i in range(len(corpus) -1 ):\n",
    "        data = corpus[i].split(\"\\t\")\n",
    "\n",
    "        sentences.append(data[0])\n",
    "        sentences.append(data[1])"
   ]
  },
  {
   "cell_type": "markdown",
   "metadata": {},
   "source": [
    "# create sentences_char.txt"
   ]
  },
  {
   "cell_type": "code",
   "execution_count": null,
   "metadata": {},
   "outputs": [],
   "source": [
    "counter = 0\n",
    "with open('sentences_char.txt', 'w') as outfile:\n",
    "    for fname in list_poem:    \n",
    "        counter +=1\n",
    "        if counter == 100:\n",
    "            break\n",
    "        with open(fname) as infile:\n",
    "            outfile.write(infile.read())"
   ]
  }
 ],
 "metadata": {
  "colab": {
   "collapsed_sections": [],
   "name": "HW4.ipynb",
   "provenance": [],
   "toc_visible": true
  },
  "kernelspec": {
   "display_name": "Python 3",
   "language": "python",
   "name": "python3"
  },
  "language_info": {
   "codemirror_mode": {
    "name": "ipython",
    "version": 3
   },
   "file_extension": ".py",
   "mimetype": "text/x-python",
   "name": "python",
   "nbconvert_exporter": "python",
   "pygments_lexer": "ipython3",
   "version": "3.6.3"
  }
 },
 "nbformat": 4,
 "nbformat_minor": 1
}
